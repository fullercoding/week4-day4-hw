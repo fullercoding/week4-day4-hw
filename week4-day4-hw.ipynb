{
 "cells": [
  {
   "cell_type": "markdown",
   "metadata": {},
   "source": [
    "# Advanced APIs"
   ]
  },
  {
   "cell_type": "markdown",
   "metadata": {},
   "source": [
    "### Set up for Success"
   ]
  },
  {
   "cell_type": "code",
   "execution_count": 3,
   "metadata": {},
   "outputs": [],
   "source": [
    "import requests\n",
    "\n",
    "url = 'https://cae-bootstore.herokuapp.com'\n",
    "\n",
    "endpoint_login = \"/login\"\n",
    "endpoint_user = \"/user\"\n",
    "endpoint_book = \"/book\"\n",
    "\n"
   ]
  },
  {
   "cell_type": "markdown",
   "metadata": {},
   "source": [
    "## GET Requests"
   ]
  },
  {
   "cell_type": "code",
   "execution_count": 4,
   "metadata": {
    "scrolled": true
   },
   "outputs": [
    {
     "data": {
      "text/plain": [
       "[{'author': 'Arlene Dahl',\n",
       "  'created_on': 'Mon, 28 Feb 2022 19:21:17 GMT',\n",
       "  'id': 18,\n",
       "  'img': 'https://s2982.pcdn.co/wp-content/uploads/2018/11/always-ask-a-man-book-cover.jpg',\n",
       "  'pages': 198,\n",
       "  'subject': 'self help',\n",
       "  'summary': 'For women traveling back to the US 1950',\n",
       "  'title': 'ALWAYS ASK A MAN: THE KEY TO FEMININITY'},\n",
       " {'author': 'Arnetta R. Scales',\n",
       "  'created_on': 'Mon, 28 Feb 2022 19:21:17 GMT',\n",
       "  'id': 19,\n",
       "  'img': 'https://s2982.pcdn.co/wp-content/uploads/2018/11/and-on-the-eighth-day-god-created-hairdressers-book-cover.jpg',\n",
       "  'pages': 222,\n",
       "  'subject': 'self help',\n",
       "  'summary': 'Becuase I just gotta get my hair did',\n",
       "  'title': 'AND ON THE EIGHTH DAY GOD CREATED HAIRDRESSERS'},\n",
       " {'author': 'James Maratta',\n",
       "  'created_on': 'Mon, 28 Feb 2022 19:21:17 GMT',\n",
       "  'id': 20,\n",
       "  'img': 'https://s2982.pcdn.co/wp-content/uploads/2018/11/brainwashing-is-a-cinch-book-cover.jpg',\n",
       "  'pages': 321,\n",
       "  'subject': 'science',\n",
       "  'summary': 'We bother making a rational argument?',\n",
       "  'title': 'BRAINWASHING IS A CINCH!'},\n",
       " {'author': 'Stephanie Jackson',\n",
       "  'created_on': 'Mon, 28 Feb 2022 19:21:17 GMT',\n",
       "  'id': 21,\n",
       "  'img': 'https://s2982.pcdn.co/wp-content/uploads/2018/11/cat-flexing.jpg',\n",
       "  'pages': 1295,\n",
       "  'subject': 'self help',\n",
       "  'summary': 'Who needs heavy weights when a fat cat will do',\n",
       "  'title': 'CATFLEXING: A CATLOVER’S GUIDE TO WEIGHTLIFTING, AEROBICS & STRETCHING'},\n",
       " {'author': 'Micheala Giles',\n",
       "  'created_on': 'Mon, 28 Feb 2022 19:21:17 GMT',\n",
       "  'id': 22,\n",
       "  'img': 'https://s2982.pcdn.co/wp-content/uploads/2018/11/commuter-pig-keeper-book-cover.jpg',\n",
       "  'pages': 87,\n",
       "  'subject': 'science',\n",
       "  'summary': 'Not in Kansas anymore? Raising pigs in the City with a full time job?',\n",
       "  'title': 'THE COMMUTER PIG KEEPER'},\n",
       " {'author': 'Elizabeth Worthington Strong',\n",
       "  'created_on': 'Mon, 28 Feb 2022 19:21:17 GMT',\n",
       "  'id': 24,\n",
       "  'img': 'https://s2982.pcdn.co/wp-content/uploads/2018/11/how-to-cook-husbands-book-cover.jpg',\n",
       "  'pages': 199,\n",
       "  'subject': 'marriage advice',\n",
       "  'summary': \"For when you are tired of the question What's for dinner?\",\n",
       "  'title': 'HOW TO COOK HUSBANDS'},\n",
       " {'author': 'Lois Bird',\n",
       "  'created_on': 'Mon, 28 Feb 2022 19:21:17 GMT',\n",
       "  'id': 25,\n",
       "  'img': 'https://s2982.pcdn.co/wp-content/uploads/2018/11/how-to-make-your-wife-your-mistress-book-cover.jpg',\n",
       "  'pages': 111,\n",
       "  'subject': 'marriage advice',\n",
       "  'summary': 'Living with two women can be hard: Consolidate',\n",
       "  'title': 'HOW TO MAKE YOUR WIFE YOUR MISTRESS'},\n",
       " {'author': 'Brenda Bence',\n",
       "  'created_on': 'Mon, 28 Feb 2022 19:21:17 GMT',\n",
       "  'id': 26,\n",
       "  'img': 'https://s2982.pcdn.co/wp-content/uploads/2018/11/how-you-are-like-shampoo-book-cover.jpg',\n",
       "  'pages': 222,\n",
       "  'subject': 'self help',\n",
       "  'summary': 'Lather, rinse, repeat.',\n",
       "  'title': 'HOW YOU ARE LIKE SHAMPOO'},\n",
       " {'author': 'Aqua Boil',\n",
       "  'created_on': 'Mon, 28 Feb 2022 19:21:17 GMT',\n",
       "  'id': 27,\n",
       "  'img': 'https://s2982.pcdn.co/wp-content/uploads/2018/11/the-joy-of-waterboiling-book-cover-759x1024.jpg',\n",
       "  'pages': 12,\n",
       "  'subject': 'entertainment',\n",
       "  'summary': 'For when you need to have fun on a budget ',\n",
       "  'title': 'THE JOY OF WATER BOILING'},\n",
       " {'author': 'Drew Emborsky',\n",
       "  'created_on': 'Mon, 28 Feb 2022 19:21:17 GMT',\n",
       "  'id': 28,\n",
       "  'img': 'https://s2982.pcdn.co/wp-content/uploads/2018/11/men-who-knit-and-the-dogs-who-love-them-book-cover.jpg',\n",
       "  'pages': 397,\n",
       "  'subject': 'entertainment',\n",
       "  'summary': 'Nothing finer than knitting matching sweaters for you and your dog',\n",
       "  'title': 'MEN WHO KNIT & THE DOGS WHO LOVE THEM'},\n",
       " {'author': 'Matthew Voggel',\n",
       "  'created_on': 'Mon, 28 Feb 2022 19:21:17 GMT',\n",
       "  'id': 30,\n",
       "  'img': 'https://s2982.pcdn.co/wp-content/uploads/2018/11/natural-history-of-vacant-lots-book-cover-178x300.jpg',\n",
       "  'pages': 452,\n",
       "  'subject': 'science',\n",
       "  'summary': 'Seinfeld for Property',\n",
       "  'title': 'NATURAL HISTORY OF VACANT LOTS'},\n",
       " {'author': 'Hester Mundis',\n",
       "  'created_on': 'Mon, 28 Feb 2022 19:21:17 GMT',\n",
       "  'id': 31,\n",
       "  'img': 'https://s2982.pcdn.co/wp-content/uploads/2018/11/no-hes-not-a-monkey-book-cover.jpg',\n",
       "  'pages': 521,\n",
       "  'subject': 'self help',\n",
       "  'summary': 'Advice on raising a teenage boy',\n",
       "  'title': 'NO, HE’S NOT A MONKEY, HE’S AN APE AND HE’S MY SON'},\n",
       " {'author': 'Linda Wright',\n",
       "  'created_on': 'Mon, 28 Feb 2022 19:21:17 GMT',\n",
       "  'id': 32,\n",
       "  'img': 'https://s2982.pcdn.co/wp-content/uploads/2018/11/toilet-paper-origami-book-cover.jpg',\n",
       "  'pages': 222,\n",
       "  'subject': 'entertainment',\n",
       "  'summary': 'A book for when you leave your phone in the other room.',\n",
       "  'title': 'TOILET PAPER ORIGAMI'},\n",
       " {'author': 'Martin Greenberg',\n",
       "  'created_on': 'Mon, 28 Feb 2022 19:21:17 GMT',\n",
       "  'id': 33,\n",
       "  'img': 'https://s2982.pcdn.co/wp-content/uploads/2018/11/zombie-raccoons-and-killer-rabbits-book-cover.jpg',\n",
       "  'pages': 201,\n",
       "  'subject': 'science',\n",
       "  'summary': \"When the day comes you'll thank me\",\n",
       "  'title': 'ZOMBIE RACCOONS & KILLER BUNNIES'},\n",
       " {'author': 'Donal I Rogers',\n",
       "  'created_on': 'Mon, 28 Feb 2022 19:21:17 GMT',\n",
       "  'id': 34,\n",
       "  'img': 'https://s2982.pcdn.co/wp-content/uploads/2018/11/teach-your-wife-to-be-a-widow-book-cover.jpg',\n",
       "  'pages': 187,\n",
       "  'subject': 'marriage',\n",
       "  'summary': 'For when your wife browses our marriage section',\n",
       "  'title': 'TEACH YOUR WIFE TO BE A WIDOW'},\n",
       " {'author': 'The Practical Dev',\n",
       "  'created_on': 'Mon, 07 Mar 2022 21:56:09 GMT',\n",
       "  'id': 35,\n",
       "  'img': 'https://boyter.org/static/books/Cn1rWcbWcAAgsCA.jpg',\n",
       "  'pages': 120,\n",
       "  'subject': 'Programming',\n",
       "  'summary': 'Regex is hard',\n",
       "  'title': 'Googling for the Regex'},\n",
       " {'author': 'The Practical Dev',\n",
       "  'created_on': 'Mon, 07 Mar 2022 21:56:09 GMT',\n",
       "  'id': 36,\n",
       "  'img': 'https://boyter.org/static/books/CpWvVOoW8AAjYmB.jpg',\n",
       "  'pages': 5324,\n",
       "  'subject': 'Programming',\n",
       "  'summary': 'git add, git commit, git push, git clone, git branch, git fetch',\n",
       "  'title': 'Memorizing Six Git Commands'},\n",
       " {'author': 'The Practical Dev',\n",
       "  'created_on': 'Mon, 07 Mar 2022 21:56:09 GMT',\n",
       "  'id': 37,\n",
       "  'img': 'https://boyter.org/static/books/CnDD1t0XgAQMXJA.jpg',\n",
       "  'pages': 57,\n",
       "  'subject': 'Programming',\n",
       "  'summary': 'To catch them is your real test, to train them is your cause',\n",
       "  'title': \"Catching 'em all\"},\n",
       " {'author': 'The Practical Dev',\n",
       "  'created_on': 'Mon, 07 Mar 2022 21:56:09 GMT',\n",
       "  'id': 38,\n",
       "  'img': 'https://boyter.org/static/books/Cf7eHZ1W4AEeZJA.jpg',\n",
       "  'pages': 125,\n",
       "  'subject': 'Programming',\n",
       "  'summary': 'The way programmers like to learn',\n",
       "  'title': 'Changing Stuff and Seeing What Happens'},\n",
       " {'author': 'The Practical Dev',\n",
       "  'created_on': 'Mon, 07 Mar 2022 21:56:09 GMT',\n",
       "  'id': 39,\n",
       "  'img': 'https://boyter.org/static/books/ChdhDa5XEAAK36t.jpg',\n",
       "  'pages': 233,\n",
       "  'subject': 'Programming',\n",
       "  'summary': 'What happened when I built this ap',\n",
       "  'title': 'Moving Fast and breaking things'},\n",
       " {'author': 'The Practical Dev',\n",
       "  'created_on': 'Mon, 07 Mar 2022 21:56:09 GMT',\n",
       "  'id': 40,\n",
       "  'img': 'https://boyter.org/static/books/CiHHf9-UYAA6aVB.jpg',\n",
       "  'pages': 233,\n",
       "  'subject': 'Programming',\n",
       "  'summary': 'A book on the key to success',\n",
       "  'title': 'Remembering What to Google'},\n",
       " {'author': 'Anonymous',\n",
       "  'created_on': 'Mon, 28 Feb 2022 19:21:17 GMT',\n",
       "  'id': 23,\n",
       "  'img': 'https://s2982.pcdn.co/wp-content/uploads/2018/11/cooking-to-kill-book-cover.jpg',\n",
       "  'pages': 3207,\n",
       "  'subject': 'cooking',\n",
       "  'summary': 'Originally titled: Divorce with Benefits',\n",
       "  'title': 'COOKING TO KILL: THE POISON COOK-BOOK'},\n",
       " {'author': 'The Practical Dev',\n",
       "  'created_on': 'Mon, 07 Mar 2022 21:56:09 GMT',\n",
       "  'id': 41,\n",
       "  'img': 'https://boyter.org/static/books/Cllb9urWMAAKaz4.jpg',\n",
       "  'pages': 384,\n",
       "  'subject': 'Programming',\n",
       "  'summary': 'A book on how I got through Coding Temple Lectures',\n",
       "  'title': 'Nodding along'},\n",
       " {'author': 'The Practical Dev',\n",
       "  'created_on': 'Mon, 07 Mar 2022 21:56:09 GMT',\n",
       "  'id': 42,\n",
       "  'img': 'https://boyter.org/static/books/CfSQdwUW8AErog1.jpg',\n",
       "  'pages': 32,\n",
       "  'subject': 'Programming',\n",
       "  'summary': 'My programming process',\n",
       "  'title': 'Trying Stuff Until it Works'},\n",
       " {'author': 'The Practical Dev',\n",
       "  'created_on': 'Mon, 07 Mar 2022 21:56:09 GMT',\n",
       "  'id': 43,\n",
       "  'img': 'https://boyter.org/static/books/pRDPMx2.jpg',\n",
       "  'pages': 475,\n",
       "  'subject': 'Programming',\n",
       "  'summary': 'I think i know what this does',\n",
       "  'title': 'Copying and Pasting from Stack Overflow'},\n",
       " {'author': 'The Practical Dev',\n",
       "  'created_on': 'Mon, 07 Mar 2022 21:56:09 GMT',\n",
       "  'id': 44,\n",
       "  'img': 'https://boyter.org/static/books/C1_sRq9XgAADMzY.jpg',\n",
       "  'pages': 2,\n",
       "  'subject': 'Programming',\n",
       "  'summary': 'Crossing those fingers',\n",
       "  'title': 'Hoping for the Right Interview Questions'},\n",
       " {'author': 'The Practical Dev',\n",
       "  'created_on': 'Mon, 07 Mar 2022 22:24:42 GMT',\n",
       "  'id': 45,\n",
       "  'img': 'https://boyter.org/static/books/f8153cfdbe0a117e6386fa7051976063-2.jpeg',\n",
       "  'pages': 923,\n",
       "  'subject': 'Programming',\n",
       "  'summary': \"Wade's old textbook\",\n",
       "  'title': 'Cobol: the fossilized guide'},\n",
       " {'author': 'The Practical Dev',\n",
       "  'created_on': 'Mon, 07 Mar 2022 22:24:42 GMT',\n",
       "  'id': 46,\n",
       "  'img': 'https://boyter.org/static/books/e1120a9e3abfecff3ac50527e1b3556f-2.jpeg',\n",
       "  'pages': 143,\n",
       "  'subject': 'Programming',\n",
       "  'summary': 'Looks just as good as the original',\n",
       "  'title': 'JPEG Compression'},\n",
       " {'author': 'Peanut Pirate',\n",
       "  'created_on': 'Wed, 09 Mar 2022 23:12:01 GMT',\n",
       "  'id': 47,\n",
       "  'img': 'http://www.fastprint.co.uk/Assets/User/2107-outwitting-squirrels.jpg',\n",
       "  'pages': 12456,\n",
       "  'subject': 'entertainment',\n",
       "  'summary': \"It's way harder than it sounds\",\n",
       "  'title': 'Outwitting Squirrels'},\n",
       " {'author': 'Malcolm',\n",
       "  'created_on': 'Wed, 09 Mar 2022 23:12:01 GMT',\n",
       "  'id': 48,\n",
       "  'img': 'http://www.fastprint.co.uk/Assets/User/2064-eating-people-is-wrong.jpg',\n",
       "  'pages': 134,\n",
       "  'subject': 'cooking',\n",
       "  'summary': 'This was also news to me',\n",
       "  'title': 'Eating People is Wrong'},\n",
       " {'author': '673126',\n",
       "  'created_on': 'Wed, 09 Mar 2022 23:12:01 GMT',\n",
       "  'id': 49,\n",
       "  'img': 'http://www.fastprint.co.uk/Assets/User/2084-how-to-make-money-in-your-spare-time.jpg',\n",
       "  'pages': 666,\n",
       "  'subject': 'self help',\n",
       "  'summary': 'Black mask not included',\n",
       "  'title': 'How to make money in your spare time'},\n",
       " {'author': 'John W Trimmer',\n",
       "  'created_on': 'Wed, 09 Mar 2022 23:12:01 GMT',\n",
       "  'id': 50,\n",
       "  'img': 'http://www.fastprint.co.uk/Assets/User/2079-how-to-avoid-huge-ships.jpg',\n",
       "  'pages': 1,\n",
       "  'subject': 'science',\n",
       "  'summary': 'Pivot',\n",
       "  'title': 'How to Avoid Huge Ships'},\n",
       " {'author': 'Heather Silver',\n",
       "  'created_on': 'Wed, 09 Mar 2022 23:12:01 GMT',\n",
       "  'id': 51,\n",
       "  'img': 'http://www.fastprint.co.uk/Assets/User/2142-why-cats-paint.jpg',\n",
       "  'pages': 185,\n",
       "  'subject': 'entertainment',\n",
       "  'summary': 'A photogenic journey through the internets favorite topic',\n",
       "  'title': 'Why Cats Paint'},\n",
       " {'author': 'Coolio',\n",
       "  'created_on': 'Wed, 09 Mar 2022 23:12:01 GMT',\n",
       "  'id': 52,\n",
       "  'img': 'http://www.fastprint.co.uk/Assets/User/2062-cookin-with-coolio.jpg',\n",
       "  'pages': 207,\n",
       "  'subject': 'cooking',\n",
       "  'summary': 'The fried bologna is devine',\n",
       "  'title': \"Cookin' with Coolio\"}]"
      ]
     },
     "execution_count": 4,
     "metadata": {},
     "output_type": "execute_result"
    }
   ],
   "source": [
    "def get_books():\n",
    "    books = requests.get(url+endpoint_book)\n",
    "    return books.json()['books']\n",
    "books = get_books()\n",
    "books"
   ]
  },
  {
   "cell_type": "markdown",
   "metadata": {},
   "source": [
    "## In Class Assignment A\n",
    "\n",
    "#### make a function that returns a set of all the categories/subject found in the book list"
   ]
  },
  {
   "cell_type": "code",
   "execution_count": 5,
   "metadata": {},
   "outputs": [
    {
     "data": {
      "text/plain": [
       "{'Cooking',\n",
       " 'Entertainment',\n",
       " 'Marriage',\n",
       " 'Marriage Advice',\n",
       " 'Programming',\n",
       " 'Science',\n",
       " 'Self Help'}"
      ]
     },
     "execution_count": 5,
     "metadata": {},
     "output_type": "execute_result"
    }
   ],
   "source": [
    "def get_category_list(books):\n",
    "    return {book['subject'].title() for book in books}\n",
    "get_category_list(books)"
   ]
  },
  {
   "cell_type": "markdown",
   "metadata": {},
   "source": [
    "## In Class Assignment B\n",
    "\n",
    "#### make a function that returns a list of all the books(dicts) in a category"
   ]
  },
  {
   "cell_type": "code",
   "execution_count": 6,
   "metadata": {},
   "outputs": [
    {
     "data": {
      "text/plain": [
       "[{'author': 'Anonymous',\n",
       "  'created_on': 'Mon, 28 Feb 2022 19:21:17 GMT',\n",
       "  'id': 23,\n",
       "  'img': 'https://s2982.pcdn.co/wp-content/uploads/2018/11/cooking-to-kill-book-cover.jpg',\n",
       "  'pages': 3207,\n",
       "  'subject': 'cooking',\n",
       "  'summary': 'Originally titled: Divorce with Benefits',\n",
       "  'title': 'COOKING TO KILL: THE POISON COOK-BOOK'},\n",
       " {'author': 'Malcolm',\n",
       "  'created_on': 'Wed, 09 Mar 2022 23:12:01 GMT',\n",
       "  'id': 48,\n",
       "  'img': 'http://www.fastprint.co.uk/Assets/User/2064-eating-people-is-wrong.jpg',\n",
       "  'pages': 134,\n",
       "  'subject': 'cooking',\n",
       "  'summary': 'This was also news to me',\n",
       "  'title': 'Eating People is Wrong'},\n",
       " {'author': 'Coolio',\n",
       "  'created_on': 'Wed, 09 Mar 2022 23:12:01 GMT',\n",
       "  'id': 52,\n",
       "  'img': 'http://www.fastprint.co.uk/Assets/User/2062-cookin-with-coolio.jpg',\n",
       "  'pages': 207,\n",
       "  'subject': 'cooking',\n",
       "  'summary': 'The fried bologna is devine',\n",
       "  'title': \"Cookin' with Coolio\"}]"
      ]
     },
     "execution_count": 6,
     "metadata": {},
     "output_type": "execute_result"
    }
   ],
   "source": [
    "def get_book_by_category(books, category):\n",
    "    return list(filter(lambda book: book['subject'].title()==category.title(),books))\n",
    "get_book_by_category(books,'Cooking')"
   ]
  },
  {
   "cell_type": "markdown",
   "metadata": {},
   "source": [
    "## Using a SLUG\n",
    "A Slug is the unique identifying part of a web address, typically at the end of the URL"
   ]
  },
  {
   "cell_type": "code",
   "execution_count": 7,
   "metadata": {
    "scrolled": true
   },
   "outputs": [
    {
     "data": {
      "text/plain": [
       "{'author': 'Micheala Giles',\n",
       " 'created_on': 'Mon, 28 Feb 2022 19:21:17 GMT',\n",
       " 'id': 22,\n",
       " 'img': 'https://s2982.pcdn.co/wp-content/uploads/2018/11/commuter-pig-keeper-book-cover.jpg',\n",
       " 'pages': 87,\n",
       " 'subject': 'science',\n",
       " 'summary': 'Not in Kansas anymore? Raising pigs in the City with a full time job?',\n",
       " 'title': 'THE COMMUTER PIG KEEPER'}"
      ]
     },
     "execution_count": 7,
     "metadata": {},
     "output_type": "execute_result"
    }
   ],
   "source": [
    "def get_single_book(book_id):\n",
    "    single_book = requests.get(url+endpoint_book +'/'+str(book_id))\n",
    "    return single_book.json()\n",
    "\n",
    "get_single_book(22)"
   ]
  },
  {
   "cell_type": "markdown",
   "metadata": {},
   "source": [
    "## POST Requests\n",
    "\n",
    "#### json.dumps will convert a dictionary into a JSON String ready for transport"
   ]
  },
  {
   "cell_type": "code",
   "execution_count": 8,
   "metadata": {
    "scrolled": true
   },
   "outputs": [
    {
     "data": {
      "text/plain": [
       "'<!DOCTYPE HTML PUBLIC \"-//W3C//DTD HTML 3.2 Final//EN\">\\n<title>422 Unprocessable Entity</title>\\n<h1>Unprocessable Entity</h1>\\n<p>The request was well-formed but was unable to be followed due to semantic errors.</p>\\n'"
      ]
     },
     "execution_count": 8,
     "metadata": {},
     "output_type": "execute_result"
    }
   ],
   "source": [
    "import json\n",
    "\n",
    "def register_user(payload):\n",
    "    payload_json_string = json.dumps(payload)\n",
    "    headers = {\n",
    "        'Content-Type':'application/json'\n",
    "    }\n",
    "    response = requests.post(\n",
    "        url + endpoint_user,\n",
    "        data = payload_json_string,\n",
    "        headers = headers\n",
    "    )\n",
    "    return response.text\n",
    "    \n",
    "    \n",
    "    \n",
    "    \n",
    "jims_payload={\n",
    "    \"email\":\"jimb@eam.com\",\n",
    "    \"first_name\":\"William\",\n",
    "    \"last_name\":\"Beam\",\n",
    "    \"password\":\"123\"\n",
    "}\n",
    "\n",
    "register_user(jims_payload)    \n"
   ]
  },
  {
   "cell_type": "markdown",
   "metadata": {},
   "source": [
    "## Authentication - Basic Authorization\n"
   ]
  },
  {
   "cell_type": "code",
   "execution_count": 9,
   "metadata": {
    "scrolled": false
   },
   "outputs": [
    {
     "data": {
      "text/plain": [
       "{'admin': None,\n",
       " 'created_on': 'Fri, 30 Sep 2022 14:04:47 GMT',\n",
       " 'email': 'jimb@eam.com',\n",
       " 'first_name': 'Bill',\n",
       " 'last_name': 'Beam',\n",
       " 'modified_on': 'Mon, 31 Oct 2022 04:23:07 GMT',\n",
       " 'token': 'wX67Bx88MmP_qVQ1slTl0dqwR8Vs6slIIFiWfEhfx-M',\n",
       " 'user_id': 474}"
      ]
     },
     "execution_count": 9,
     "metadata": {},
     "output_type": "execute_result"
    }
   ],
   "source": [
    "import base64\n",
    "\n",
    "def login_user(user_name, password):\n",
    "    auth_string = user_name + \":\" + password\n",
    "    \n",
    "    headers={\n",
    "        'Authorization' : \"Basic \"+base64.b64encode(auth_string.encode()).decode()\n",
    "    }\n",
    "    \n",
    "    user_data = requests.get(\n",
    "        url + endpoint_login,\n",
    "        headers=headers\n",
    "    )\n",
    "    return user_data.json()\n",
    "login_user('jimb@eam.com','123')\n",
    "    "
   ]
  },
  {
   "cell_type": "code",
   "execution_count": 10,
   "metadata": {},
   "outputs": [
    {
     "name": "stdout",
     "output_type": "stream",
     "text": [
      "wX67Bx88MmP_qVQ1slTl0dqwR8Vs6slIIFiWfEhfx-M\n"
     ]
    }
   ],
   "source": [
    "jim=login_user('jimb@eam.com','123')\n",
    "print(jim['token'])"
   ]
  },
  {
   "cell_type": "markdown",
   "metadata": {},
   "source": [
    "## Authentication - Bearer Authorization & PUT Requests"
   ]
  },
  {
   "cell_type": "code",
   "execution_count": 11,
   "metadata": {},
   "outputs": [
    {
     "data": {
      "text/plain": [
       "'success'"
      ]
     },
     "execution_count": 11,
     "metadata": {},
     "output_type": "execute_result"
    }
   ],
   "source": [
    "def edit_user(token, payload):\n",
    "    payload_json_string = json.dumps(payload)\n",
    "    headers={\n",
    "        'Content-Type':'application/json',\n",
    "        'Authorization':'Bearer ' + token\n",
    "    }\n",
    "    response = requests.put(\n",
    "        url + endpoint_user,\n",
    "        data=payload_json_string,\n",
    "        headers=headers\n",
    "    )\n",
    "    return response.text\n",
    "\n",
    "jims_edit_payload={\n",
    "    \"first_name\":\"Bill\"\n",
    "}\n",
    "\n",
    "edit_user(jim['token'], jims_edit_payload)\n"
   ]
  },
  {
   "cell_type": "code",
   "execution_count": 12,
   "metadata": {
    "scrolled": false
   },
   "outputs": [
    {
     "data": {
      "text/plain": [
       "'Bill'"
      ]
     },
     "execution_count": 12,
     "metadata": {},
     "output_type": "execute_result"
    }
   ],
   "source": [
    "jim=login_user('jimb@eam.com','123')\n",
    "jim['first_name']"
   ]
  },
  {
   "cell_type": "markdown",
   "metadata": {},
   "source": [
    "## DELETE Request"
   ]
  },
  {
   "cell_type": "code",
   "execution_count": 13,
   "metadata": {},
   "outputs": [
    {
     "name": "stdout",
     "output_type": "stream",
     "text": [
      "success\n"
     ]
    }
   ],
   "source": [
    "def delete_user(token):\n",
    "    headers = {\n",
    "        'Authorization':\"Bearer \" + token\n",
    "    }\n",
    "    \n",
    "    response = requests.delete(\n",
    "        url+endpoint_user,\n",
    "        headers=headers\n",
    "    )\n",
    "    return response.text\n",
    "print(delete_user(jim['token']))\n"
   ]
  },
  {
   "cell_type": "code",
   "execution_count": 14,
   "metadata": {},
   "outputs": [
    {
     "ename": "JSONDecodeError",
     "evalue": "[Errno Expecting value] Unauthorized Access: 0",
     "output_type": "error",
     "traceback": [
      "\u001b[1;31m---------------------------------------------------------------------------\u001b[0m",
      "\u001b[1;31mJSONDecodeError\u001b[0m                           Traceback (most recent call last)",
      "File \u001b[1;32m~\\anaconda3\\lib\\site-packages\\requests\\models.py:910\u001b[0m, in \u001b[0;36mResponse.json\u001b[1;34m(self, **kwargs)\u001b[0m\n\u001b[0;32m    909\u001b[0m \u001b[38;5;28;01mtry\u001b[39;00m:\n\u001b[1;32m--> 910\u001b[0m     \u001b[38;5;28;01mreturn\u001b[39;00m complexjson\u001b[38;5;241m.\u001b[39mloads(\u001b[38;5;28mself\u001b[39m\u001b[38;5;241m.\u001b[39mtext, \u001b[38;5;241m*\u001b[39m\u001b[38;5;241m*\u001b[39mkwargs)\n\u001b[0;32m    911\u001b[0m \u001b[38;5;28;01mexcept\u001b[39;00m JSONDecodeError \u001b[38;5;28;01mas\u001b[39;00m e:\n\u001b[0;32m    912\u001b[0m     \u001b[38;5;66;03m# Catch JSON-related errors and raise as requests.JSONDecodeError\u001b[39;00m\n\u001b[0;32m    913\u001b[0m     \u001b[38;5;66;03m# This aliases json.JSONDecodeError and simplejson.JSONDecodeError\u001b[39;00m\n",
      "File \u001b[1;32m~\\anaconda3\\lib\\json\\__init__.py:346\u001b[0m, in \u001b[0;36mloads\u001b[1;34m(s, cls, object_hook, parse_float, parse_int, parse_constant, object_pairs_hook, **kw)\u001b[0m\n\u001b[0;32m    343\u001b[0m \u001b[38;5;28;01mif\u001b[39;00m (\u001b[38;5;28mcls\u001b[39m \u001b[38;5;129;01mis\u001b[39;00m \u001b[38;5;28;01mNone\u001b[39;00m \u001b[38;5;129;01mand\u001b[39;00m object_hook \u001b[38;5;129;01mis\u001b[39;00m \u001b[38;5;28;01mNone\u001b[39;00m \u001b[38;5;129;01mand\u001b[39;00m\n\u001b[0;32m    344\u001b[0m         parse_int \u001b[38;5;129;01mis\u001b[39;00m \u001b[38;5;28;01mNone\u001b[39;00m \u001b[38;5;129;01mand\u001b[39;00m parse_float \u001b[38;5;129;01mis\u001b[39;00m \u001b[38;5;28;01mNone\u001b[39;00m \u001b[38;5;129;01mand\u001b[39;00m\n\u001b[0;32m    345\u001b[0m         parse_constant \u001b[38;5;129;01mis\u001b[39;00m \u001b[38;5;28;01mNone\u001b[39;00m \u001b[38;5;129;01mand\u001b[39;00m object_pairs_hook \u001b[38;5;129;01mis\u001b[39;00m \u001b[38;5;28;01mNone\u001b[39;00m \u001b[38;5;129;01mand\u001b[39;00m \u001b[38;5;129;01mnot\u001b[39;00m kw):\n\u001b[1;32m--> 346\u001b[0m     \u001b[38;5;28;01mreturn\u001b[39;00m \u001b[43m_default_decoder\u001b[49m\u001b[38;5;241;43m.\u001b[39;49m\u001b[43mdecode\u001b[49m\u001b[43m(\u001b[49m\u001b[43ms\u001b[49m\u001b[43m)\u001b[49m\n\u001b[0;32m    347\u001b[0m \u001b[38;5;28;01mif\u001b[39;00m \u001b[38;5;28mcls\u001b[39m \u001b[38;5;129;01mis\u001b[39;00m \u001b[38;5;28;01mNone\u001b[39;00m:\n",
      "File \u001b[1;32m~\\anaconda3\\lib\\json\\decoder.py:337\u001b[0m, in \u001b[0;36mJSONDecoder.decode\u001b[1;34m(self, s, _w)\u001b[0m\n\u001b[0;32m    333\u001b[0m \u001b[38;5;124;03m\"\"\"Return the Python representation of ``s`` (a ``str`` instance\u001b[39;00m\n\u001b[0;32m    334\u001b[0m \u001b[38;5;124;03mcontaining a JSON document).\u001b[39;00m\n\u001b[0;32m    335\u001b[0m \n\u001b[0;32m    336\u001b[0m \u001b[38;5;124;03m\"\"\"\u001b[39;00m\n\u001b[1;32m--> 337\u001b[0m obj, end \u001b[38;5;241m=\u001b[39m \u001b[38;5;28;43mself\u001b[39;49m\u001b[38;5;241;43m.\u001b[39;49m\u001b[43mraw_decode\u001b[49m\u001b[43m(\u001b[49m\u001b[43ms\u001b[49m\u001b[43m,\u001b[49m\u001b[43m \u001b[49m\u001b[43midx\u001b[49m\u001b[38;5;241;43m=\u001b[39;49m\u001b[43m_w\u001b[49m\u001b[43m(\u001b[49m\u001b[43ms\u001b[49m\u001b[43m,\u001b[49m\u001b[43m \u001b[49m\u001b[38;5;241;43m0\u001b[39;49m\u001b[43m)\u001b[49m\u001b[38;5;241;43m.\u001b[39;49m\u001b[43mend\u001b[49m\u001b[43m(\u001b[49m\u001b[43m)\u001b[49m\u001b[43m)\u001b[49m\n\u001b[0;32m    338\u001b[0m end \u001b[38;5;241m=\u001b[39m _w(s, end)\u001b[38;5;241m.\u001b[39mend()\n",
      "File \u001b[1;32m~\\anaconda3\\lib\\json\\decoder.py:355\u001b[0m, in \u001b[0;36mJSONDecoder.raw_decode\u001b[1;34m(self, s, idx)\u001b[0m\n\u001b[0;32m    354\u001b[0m \u001b[38;5;28;01mexcept\u001b[39;00m \u001b[38;5;167;01mStopIteration\u001b[39;00m \u001b[38;5;28;01mas\u001b[39;00m err:\n\u001b[1;32m--> 355\u001b[0m     \u001b[38;5;28;01mraise\u001b[39;00m JSONDecodeError(\u001b[38;5;124m\"\u001b[39m\u001b[38;5;124mExpecting value\u001b[39m\u001b[38;5;124m\"\u001b[39m, s, err\u001b[38;5;241m.\u001b[39mvalue) \u001b[38;5;28;01mfrom\u001b[39;00m \u001b[38;5;28mNone\u001b[39m\n\u001b[0;32m    356\u001b[0m \u001b[38;5;28;01mreturn\u001b[39;00m obj, end\n",
      "\u001b[1;31mJSONDecodeError\u001b[0m: Expecting value: line 1 column 1 (char 0)",
      "\nDuring handling of the above exception, another exception occurred:\n",
      "\u001b[1;31mJSONDecodeError\u001b[0m                           Traceback (most recent call last)",
      "Cell \u001b[1;32mIn [14], line 1\u001b[0m\n\u001b[1;32m----> 1\u001b[0m jim\u001b[38;5;241m=\u001b[39m\u001b[43mlogin_user\u001b[49m\u001b[43m(\u001b[49m\u001b[38;5;124;43m'\u001b[39;49m\u001b[38;5;124;43mjimb@eam.com\u001b[39;49m\u001b[38;5;124;43m'\u001b[39;49m\u001b[43m,\u001b[49m\u001b[38;5;124;43m'\u001b[39;49m\u001b[38;5;124;43m123\u001b[39;49m\u001b[38;5;124;43m'\u001b[39;49m\u001b[43m)\u001b[49m\n",
      "Cell \u001b[1;32mIn [9], line 14\u001b[0m, in \u001b[0;36mlogin_user\u001b[1;34m(user_name, password)\u001b[0m\n\u001b[0;32m      6\u001b[0m headers\u001b[38;5;241m=\u001b[39m{\n\u001b[0;32m      7\u001b[0m     \u001b[38;5;124m'\u001b[39m\u001b[38;5;124mAuthorization\u001b[39m\u001b[38;5;124m'\u001b[39m : \u001b[38;5;124m\"\u001b[39m\u001b[38;5;124mBasic \u001b[39m\u001b[38;5;124m\"\u001b[39m\u001b[38;5;241m+\u001b[39mbase64\u001b[38;5;241m.\u001b[39mb64encode(auth_string\u001b[38;5;241m.\u001b[39mencode())\u001b[38;5;241m.\u001b[39mdecode()\n\u001b[0;32m      8\u001b[0m }\n\u001b[0;32m     10\u001b[0m user_data \u001b[38;5;241m=\u001b[39m requests\u001b[38;5;241m.\u001b[39mget(\n\u001b[0;32m     11\u001b[0m     url \u001b[38;5;241m+\u001b[39m endpoint_login,\n\u001b[0;32m     12\u001b[0m     headers\u001b[38;5;241m=\u001b[39mheaders\n\u001b[0;32m     13\u001b[0m )\n\u001b[1;32m---> 14\u001b[0m \u001b[38;5;28;01mreturn\u001b[39;00m \u001b[43muser_data\u001b[49m\u001b[38;5;241;43m.\u001b[39;49m\u001b[43mjson\u001b[49m\u001b[43m(\u001b[49m\u001b[43m)\u001b[49m\n",
      "File \u001b[1;32m~\\anaconda3\\lib\\site-packages\\requests\\models.py:917\u001b[0m, in \u001b[0;36mResponse.json\u001b[1;34m(self, **kwargs)\u001b[0m\n\u001b[0;32m    915\u001b[0m     \u001b[38;5;28;01mraise\u001b[39;00m RequestsJSONDecodeError(e\u001b[38;5;241m.\u001b[39mmessage)\n\u001b[0;32m    916\u001b[0m \u001b[38;5;28;01melse\u001b[39;00m:\n\u001b[1;32m--> 917\u001b[0m     \u001b[38;5;28;01mraise\u001b[39;00m RequestsJSONDecodeError(e\u001b[38;5;241m.\u001b[39mmsg, e\u001b[38;5;241m.\u001b[39mdoc, e\u001b[38;5;241m.\u001b[39mpos)\n",
      "\u001b[1;31mJSONDecodeError\u001b[0m: [Errno Expecting value] Unauthorized Access: 0"
     ]
    }
   ],
   "source": [
    "jim=login_user('jimb@eam.com','123')\n"
   ]
  },
  {
   "cell_type": "markdown",
   "metadata": {},
   "source": [
    "## Display Images in Jupyter notebook"
   ]
  },
  {
   "cell_type": "code",
   "execution_count": null,
   "metadata": {},
   "outputs": [],
   "source": [
    "from IPython.display import Image, display\n",
    "image = Image(url='https://s2982.pcdn.co/wp-content/uploads/2018/11/commuter-pig-keeper-book-cover.jpg')\n",
    "display(image)\n",
    "print('hello')"
   ]
  },
  {
   "cell_type": "markdown",
   "metadata": {},
   "source": [
    "## Make an Application"
   ]
  },
  {
   "cell_type": "code",
   "execution_count": null,
   "metadata": {},
   "outputs": [],
   "source": [
    "from getpass import getpass\n",
    "import time\n",
    "from IPython.display import clear_output \n",
    "from IPython.display import Image\n",
    "from IPython.display import display\n",
    "\n",
    "\n",
    "\n",
    "class User_ops():\n",
    "    \n",
    "    def login(self, email):\n",
    "        clear_output()\n",
    "        password=getpass(\"Password: \")\n",
    "        user=login_user(email, password)\n",
    "        return user\n",
    "    \n",
    "    def register(self):\n",
    "        clear_output()\n",
    "        print(\"Registration:\")\n",
    "        email=input(\"Email: \")\n",
    "        first_name=input(\"First Name: \")\n",
    "        last_name=input(\"Last Name: \")\n",
    "        password=getpass(\"Password: \")\n",
    "\n",
    "        user_dict={\n",
    "            \"email\":email,\n",
    "            \"first_name\":first_name,\n",
    "            \"last_name\":last_name,\n",
    "            \"password\":password\n",
    "        }\n",
    "        return register_user(user_dict)\n",
    "\n",
    "        \n",
    "\n",
    "\n",
    "\n",
    "\n",
    "class Display():\n",
    "    \n",
    "    def display_book_short(self, book):\n",
    "        print(f\"{book['id']} \\t| {book['title'][:50].ljust(50)} | \\t{book['subject']}\")\n",
    "\n",
    "    def display_book_long(self, book):\n",
    "        cover=Image(url=book['img']) \n",
    "        display(cover)\n",
    "        print(f'''\n",
    "    Title: {book['title']}    \n",
    "    Author: {book['author']}        \n",
    "    Pages: {book['pages']}\n",
    "    Subject: {book['subject']}\n",
    "    Summary: {book['summary']}\n",
    "        ''')\n",
    "\n",
    "class ReadingList():\n",
    "    def __init__(self):\n",
    "        self.reading_list=[]\n",
    "    \n",
    "    def add_book(self, book):\n",
    "        if book not in self.reading_list:\n",
    "            self.reading_list.append(book)\n",
    "        \n",
    "    def remove_book(self, book):\n",
    "        self.reading_list.remove(book)\n",
    "        \n",
    "    def empty(self):\n",
    "        self.reading_list=set()\n",
    "    \n",
    "    def show_book_list(self):\n",
    "        clear_output()\n",
    "        if not self.reading_list:\n",
    "            print(\"Your Book List Is Empty\")\n",
    "        for book in self.reading_list:\n",
    "            print(f'''\n",
    "{\"=\"*50}\n",
    "\\n\n",
    "Title:\\t {book['title']}\n",
    "Book id: {book['id']}\n",
    "Author:\\t {book['author']}\n",
    "Subject: {book['subject']}\n",
    "Summary: {book['summary']}\n",
    "\\n\n",
    "{\"=\"*50}\n",
    "\\n\n",
    "            ''')\n",
    "    def show_small_book_list(self):\n",
    "        display = Display()\n",
    "        if not self.reading_list:\n",
    "            print(\"Your Book List Is Empty\")\n",
    "        else:\n",
    "            print(\"Your Reading List:\")\n",
    "        for book in self.reading_list:\n",
    "            display.display_book_short(book)   \n",
    "            \n",
    "\n",
    "class Browse_books():\n",
    "    \n",
    "    def action1(self):\n",
    "        reading_list.add_book(list(filter(lambda book: book['id'] == selection, books))[0])\n",
    "        print(\"As you wish\")\n",
    "        time.sleep(1)\n",
    "    \n",
    "    def action2(self):\n",
    "        clear_output()\n",
    "        display.display_book_long(list(filter(lambda book: book['id'] == selection, books))[0]) \n",
    "        input(\"Enter Any Key To Continue\")\n",
    "    \n",
    "    def browse_books(self, books, reading_list, subject=None):\n",
    "        display = Display()\n",
    "        while True:\n",
    "            clear_output()\n",
    "            print(f'''\n",
    "    Welcome to the Browser        \n",
    "    You are viewing {subject if subject else 'all'} books\n",
    "    [ID] \\t| {\"[TITLE]\".ljust(50)}| [SUBJECT]\n",
    "            ''')\n",
    "            if subject:\n",
    "                books=get_book_by_category(books, subject)\n",
    "            for book in books:\n",
    "                display.display_book_short(book)   \n",
    "\n",
    "            selection=input(\"Select your book by ID [BACK to back out]\")   \n",
    "            if selection == \"BACK\":\n",
    "                return\n",
    "            elif selection.isnumeric() and int(selection) in map(lambda book: book['id'] ,books):\n",
    "                selection=int(selection)\n",
    "                while True:\n",
    "                    print(f'''\n",
    "                    You Selected: {list(filter(lambda book: book['id'] == selection, books))[0]['title']}\n",
    "                    1. Add Book To Reading List\n",
    "                    2. View More Information\n",
    "                    3. Go Back\n",
    "                    4. Go To Main Menu\n",
    "                    ''')\n",
    "                    action=input(\"Action: \")\n",
    "                    if action == \"1\":\n",
    "                        action1()\n",
    "                        break\n",
    "\n",
    "                    elif action == \"2\":\n",
    "                        action2()\n",
    "\n",
    "                    elif action == \"3\":\n",
    "                        break         \n",
    "\n",
    "                    elif action == \"4\":\n",
    "                        return                    \n",
    "            else:\n",
    "                print(\"Invalid ID\")\n",
    "                time.sleep(2)\n",
    "                continue\n",
    "        \n",
    "\n",
    "\n",
    "def main():\n",
    "    browsing = Browse_books()\n",
    "    reading_list = ReadingList()\n",
    "    books = get_books()\n",
    "    logs = Login()\n",
    "    while True:\n",
    "            clear_output()\n",
    "            print(\"Welcome to the Bookstore\")\n",
    "            email = input(\"Type your email to login or Type `register` to Register\")\n",
    "            if email == 'register':\n",
    "                success_register=logs.register()\n",
    "                if success_register:\n",
    "                    print(\"You have successfully registered\")\n",
    "                    continue\n",
    "                else:\n",
    "                    print(\"There was an error please try again\")\n",
    "                    time.sleep(2)\n",
    "                    continue\n",
    "            elif email.lower() == \"quit\":\n",
    "                print(\"Goodbye\")\n",
    "                break\n",
    "            else:\n",
    "                try:\n",
    "                    logs.login(email)\n",
    "                except:\n",
    "                    print(\"Invalid Username/Password Combo\")\n",
    "                    time.sleep(2)\n",
    "                    continue\n",
    "\n",
    "            while True:\n",
    "                clear_output()\n",
    "                print(\"\"\"\n",
    "Welcome the Repository\n",
    "You can:\n",
    "1. Browse All Books\n",
    "2. Browse Books By Category\n",
    "3. View Reading List\n",
    "4. Remove Book From Reading List\n",
    "5. Quit\n",
    "\"\"\")\n",
    "                command = input(\"Select your fate: \")\n",
    "                if command == \"1\":\n",
    "                    browsing.browse_books(books, reading_list) \n",
    "                elif command == \"2\":\n",
    "                    while True:\n",
    "                        print(\" | \".join(get_category_list(books)))\n",
    "                        cat = input(\"Category: \").lower()\n",
    "                        if cat in get_category_list(books):\n",
    "                            borwsing.browse_books(books, reading_list, cat) \n",
    "                            break\n",
    "                        print(\"Invalid category\")\n",
    "                        time.sleep(2)\n",
    "                elif command == \"3\":\n",
    "                    reading_list.show_book_list()\n",
    "                    input(\"Press Any Key To Return\")\n",
    "                elif command == \"4\":\n",
    "                    while True:\n",
    "                        clear_output()\n",
    "                        reading_list.show_small_book_list()\n",
    "                        garbage=input(\"What book ID would you like to remove? [BACK to back out]\")\n",
    "                        if garbage==\"BACK\":\n",
    "                            break\n",
    "                        elif garbage.isnumeric() and int(garbage) in map(lambda book: book['id'], reading_list.reading_list):\n",
    "                            reading_list.remove_book(list(filter(lambda book: book['id']==int(garbage) ,reading_list.reading_list))[0])\n",
    "                            print(f\"{garbage} has been removed\")\n",
    "                            time.sleep(2)\n",
    "                            break\n",
    "                        else:\n",
    "                            print(f'{garbage} is not in your collection')\n",
    "                            time.sleep(2)\n",
    "                            break\n",
    "                elif command == \"5\":\n",
    "                    print(\"Goodbye\")\n",
    "                    break\n",
    "                else:\n",
    "                    print(\"Invalid selection\")\n",
    "                    time.sleep(2)\n",
    "                    continue\n",
    "                \n",
    "            \n",
    "            \n",
    "            \n",
    "main()    "
   ]
  },
  {
   "cell_type": "code",
   "execution_count": null,
   "metadata": {},
   "outputs": [],
   "source": [
    "cindy@crawford.com"
   ]
  },
  {
   "cell_type": "code",
   "execution_count": null,
   "metadata": {},
   "outputs": [],
   "source": []
  }
 ],
 "metadata": {
  "kernelspec": {
   "display_name": "Python 3 (ipykernel)",
   "language": "python",
   "name": "python3"
  },
  "language_info": {
   "codemirror_mode": {
    "name": "ipython",
    "version": 3
   },
   "file_extension": ".py",
   "mimetype": "text/x-python",
   "name": "python",
   "nbconvert_exporter": "python",
   "pygments_lexer": "ipython3",
   "version": "3.9.12"
  }
 },
 "nbformat": 4,
 "nbformat_minor": 4
}
